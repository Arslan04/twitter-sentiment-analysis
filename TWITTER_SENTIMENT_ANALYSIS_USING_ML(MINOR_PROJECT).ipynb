{
 "cells": [
  {
   "cell_type": "markdown",
   "metadata": {
    "colab_type": "text",
    "id": "view-in-github"
   },
   "source": [
    "<a href=\"https://colab.research.google.com/github/abhi-9971/twitter_sentiment_analysis/blob/main/TWITTER_SENTIMENT_ANALYSIS_USING_ML(MINOR_PROJECT).ipynb\" target=\"_parent\"><img src=\"https://colab.research.google.com/assets/colab-badge.svg\" alt=\"Open In Colab\"/></a>"
   ]
  },
  {
   "cell_type": "code",
   "execution_count": 100,
   "metadata": {
    "id": "3syHm1ivTfSV"
   },
   "outputs": [],
   "source": [
    "#CONTENT OF THE TWITTER DATA\n",
    "\n",
    "#1,600,000 tweets extracted using the twitter api . The tweets have been annotated (0 = negative, 4 = positive)\n",
    "# target: the polarity of the tweet (0 = negative, 2 = neutral, 4 = positive)\n",
    "\n",
    "# ids: The id of the tweet ( 2087)\n",
    "\n",
    "# date: the date of the tweet (Sat May 16 23:58:44 UTC 2009)\n",
    "\n",
    "# flag: The query (lyx). If there is no query, then this value is NO_QUERY.\n",
    "\n",
    "# user: the user that tweeted (robotickilldozr)\n",
    "\n",
    "# text: the text of the tweet (Lyx is cool)"
   ]
  },
  {
   "cell_type": "markdown",
   "metadata": {
    "id": "27B5B-MVWWYH"
   },
   "source": [
    "API TO FETCH DATATSET FROM KAGGLE"
   ]
  },
  {
   "cell_type": "code",
   "execution_count": 101,
   "metadata": {
    "colab": {
     "base_uri": "https://localhost:8080/"
    },
    "id": "gBVgO-I7Whqx",
    "outputId": "1c7f66bc-ce31-4439-a64c-095803196456"
   },
   "outputs": [],
   "source": [
    "# # extracting a compressed dataset\n",
    "\n",
    "\n",
    "# from zipfile import ZipFile\n",
    "# dataset = 'sentiment140.zip'\n",
    "\n",
    "# with ZipFile(dataset, 'r') as zip:\n",
    "#   zip.extractall()\n",
    "#   print('DATASET EXTRACTED')"
   ]
  },
  {
   "cell_type": "markdown",
   "metadata": {
    "id": "yZqoAhi9X3iA"
   },
   "source": [
    "IMPORTING THE DEPENDENCIES"
   ]
  },
  {
   "cell_type": "code",
   "execution_count": 102,
   "metadata": {
    "id": "Gd2HheefXq0K"
   },
   "outputs": [],
   "source": [
    "import pandas as pd\n",
    "import numpy as np\n",
    "import matplotlib.pyplot as plt\n",
    "import seaborn as sns\n",
    "import re\n",
    "from nltk.corpus import stopwords\n",
    "from nltk.stem.porter import PorterStemmer\n",
    "from sklearn.feature_extraction.text import TfidfVectorizer\n",
    "from sklearn.model_selection import train_test_split\n",
    "from sklearn.linear_model import LogisticRegression\n",
    "from sklearn.metrics import accuracy_score"
   ]
  },
  {
   "cell_type": "code",
   "execution_count": 103,
   "metadata": {
    "colab": {
     "base_uri": "https://localhost:8080/"
    },
    "id": "cWufzctGac7w",
    "outputId": "96969098-f980-4421-ba65-6fad8a1bc3ec"
   },
   "outputs": [
    {
     "name": "stderr",
     "output_type": "stream",
     "text": [
      "[nltk_data] Downloading package stopwords to\n",
      "[nltk_data]     C:\\Users\\KIIT\\AppData\\Roaming\\nltk_data...\n",
      "[nltk_data]   Package stopwords is already up-to-date!\n"
     ]
    },
    {
     "data": {
      "text/plain": [
       "True"
      ]
     },
     "execution_count": 103,
     "metadata": {},
     "output_type": "execute_result"
    }
   ],
   "source": [
    "import nltk\n",
    "nltk.download('stopwords')"
   ]
  },
  {
   "cell_type": "code",
   "execution_count": 104,
   "metadata": {
    "colab": {
     "base_uri": "https://localhost:8080/"
    },
    "id": "QbstAnP2asFK",
    "outputId": "ea16f3c5-5078-48c2-96f2-86d8162eb4bf"
   },
   "outputs": [
    {
     "name": "stdout",
     "output_type": "stream",
     "text": [
      "['i', 'me', 'my', 'myself', 'we', 'our', 'ours', 'ourselves', 'you', \"you're\", \"you've\", \"you'll\", \"you'd\", 'your', 'yours', 'yourself', 'yourselves', 'he', 'him', 'his', 'himself', 'she', \"she's\", 'her', 'hers', 'herself', 'it', \"it's\", 'its', 'itself', 'they', 'them', 'their', 'theirs', 'themselves', 'what', 'which', 'who', 'whom', 'this', 'that', \"that'll\", 'these', 'those', 'am', 'is', 'are', 'was', 'were', 'be', 'been', 'being', 'have', 'has', 'had', 'having', 'do', 'does', 'did', 'doing', 'a', 'an', 'the', 'and', 'but', 'if', 'or', 'because', 'as', 'until', 'while', 'of', 'at', 'by', 'for', 'with', 'about', 'against', 'between', 'into', 'through', 'during', 'before', 'after', 'above', 'below', 'to', 'from', 'up', 'down', 'in', 'out', 'on', 'off', 'over', 'under', 'again', 'further', 'then', 'once', 'here', 'there', 'when', 'where', 'why', 'how', 'all', 'any', 'both', 'each', 'few', 'more', 'most', 'other', 'some', 'such', 'no', 'nor', 'not', 'only', 'own', 'same', 'so', 'than', 'too', 'very', 's', 't', 'can', 'will', 'just', 'don', \"don't\", 'should', \"should've\", 'now', 'd', 'll', 'm', 'o', 're', 've', 'y', 'ain', 'aren', \"aren't\", 'couldn', \"couldn't\", 'didn', \"didn't\", 'doesn', \"doesn't\", 'hadn', \"hadn't\", 'hasn', \"hasn't\", 'haven', \"haven't\", 'isn', \"isn't\", 'ma', 'mightn', \"mightn't\", 'mustn', \"mustn't\", 'needn', \"needn't\", 'shan', \"shan't\", 'shouldn', \"shouldn't\", 'wasn', \"wasn't\", 'weren', \"weren't\", 'won', \"won't\", 'wouldn', \"wouldn't\"]\n"
     ]
    }
   ],
   "source": [
    "#printing the stopwords in English\n",
    "print(stopwords.words('english'))\n"
   ]
  },
  {
   "cell_type": "markdown",
   "metadata": {
    "id": "6QWtgaaNbwL3"
   },
   "source": [
    "DATA PROCESSING"
   ]
  },
  {
   "cell_type": "code",
   "execution_count": 105,
   "metadata": {
    "id": "PXGZDAMsb1KU"
   },
   "outputs": [],
   "source": [
    "#loading the data form csv file to pandas df\n",
    "twitter_data=pd.read_csv('balanced_data.csv', encoding = 'ISO-8859-1')"
   ]
  },
  {
   "cell_type": "code",
   "execution_count": 106,
   "metadata": {
    "colab": {
     "base_uri": "https://localhost:8080/"
    },
    "id": "2Ht5V0lpb-YM",
    "outputId": "12ee05a5-d284-4b0e-e35b-1fc6f212a52a"
   },
   "outputs": [
    {
     "name": "stdout",
     "output_type": "stream",
     "text": [
      "(9999, 6)\n",
      "59994\n"
     ]
    }
   ],
   "source": [
    "#checking the no of rows and columns\n",
    "a=twitter_data.shape\n",
    "b=twitter_data.size\n",
    "\n",
    "print(a)\n",
    "print(b)\n"
   ]
  },
  {
   "cell_type": "code",
   "execution_count": 107,
   "metadata": {
    "colab": {
     "base_uri": "https://localhost:8080/",
     "height": 310
    },
    "id": "URVY4LoPcepO",
    "outputId": "40b928e0-f151-4e68-e0df-d1cc9aba96d7"
   },
   "outputs": [
    {
     "data": {
      "text/html": [
       "<div>\n",
       "<style scoped>\n",
       "    .dataframe tbody tr th:only-of-type {\n",
       "        vertical-align: middle;\n",
       "    }\n",
       "\n",
       "    .dataframe tbody tr th {\n",
       "        vertical-align: top;\n",
       "    }\n",
       "\n",
       "    .dataframe thead th {\n",
       "        text-align: right;\n",
       "    }\n",
       "</style>\n",
       "<table border=\"1\" class=\"dataframe\">\n",
       "  <thead>\n",
       "    <tr style=\"text-align: right;\">\n",
       "      <th></th>\n",
       "      <th>4</th>\n",
       "      <th>1991330743</th>\n",
       "      <th>Mon Jun 01 06:50:34 PDT 2009</th>\n",
       "      <th>NO_QUERY</th>\n",
       "      <th>BRUNETTEBARBIEE</th>\n",
       "      <th>Found the perfect title for my portfolio.  its from a song that i love</th>\n",
       "    </tr>\n",
       "  </thead>\n",
       "  <tbody>\n",
       "    <tr>\n",
       "      <th>0</th>\n",
       "      <td>0</td>\n",
       "      <td>1881517921</td>\n",
       "      <td>Fri May 22 04:52:46 PDT 2009</td>\n",
       "      <td>NO_QUERY</td>\n",
       "      <td>petdoctorforum</td>\n",
       "      <td>my new anti-virus ive just installed seems to ...</td>\n",
       "    </tr>\n",
       "    <tr>\n",
       "      <th>1</th>\n",
       "      <td>0</td>\n",
       "      <td>2051830441</td>\n",
       "      <td>Fri Jun 05 22:55:06 PDT 2009</td>\n",
       "      <td>NO_QUERY</td>\n",
       "      <td>juliecastle_9</td>\n",
       "      <td>fact: i still love him...you learn from mistak...</td>\n",
       "    </tr>\n",
       "    <tr>\n",
       "      <th>2</th>\n",
       "      <td>0</td>\n",
       "      <td>1988997171</td>\n",
       "      <td>Mon Jun 01 00:00:59 PDT 2009</td>\n",
       "      <td>NO_QUERY</td>\n",
       "      <td>sojufied</td>\n",
       "      <td>i think i gotta make a new twitter account cuz...</td>\n",
       "    </tr>\n",
       "    <tr>\n",
       "      <th>3</th>\n",
       "      <td>0</td>\n",
       "      <td>2070776908</td>\n",
       "      <td>Sun Jun 07 18:16:45 PDT 2009</td>\n",
       "      <td>NO_QUERY</td>\n",
       "      <td>janicetertel</td>\n",
       "      <td>end of the weekend....back to work tomorrow  W...</td>\n",
       "    </tr>\n",
       "    <tr>\n",
       "      <th>4</th>\n",
       "      <td>4</td>\n",
       "      <td>2009606301</td>\n",
       "      <td>Tue Jun 02 15:58:40 PDT 2009</td>\n",
       "      <td>NO_QUERY</td>\n",
       "      <td>Kt_Rose517</td>\n",
       "      <td>@mitchelmusso LOVE the album!!  reply??</td>\n",
       "    </tr>\n",
       "  </tbody>\n",
       "</table>\n",
       "</div>"
      ],
      "text/plain": [
       "   4  1991330743  Mon Jun 01 06:50:34 PDT 2009  NO_QUERY BRUNETTEBARBIEE  \\\n",
       "0  0  1881517921  Fri May 22 04:52:46 PDT 2009  NO_QUERY  petdoctorforum   \n",
       "1  0  2051830441  Fri Jun 05 22:55:06 PDT 2009  NO_QUERY   juliecastle_9   \n",
       "2  0  1988997171  Mon Jun 01 00:00:59 PDT 2009  NO_QUERY        sojufied   \n",
       "3  0  2070776908  Sun Jun 07 18:16:45 PDT 2009  NO_QUERY    janicetertel   \n",
       "4  4  2009606301  Tue Jun 02 15:58:40 PDT 2009  NO_QUERY      Kt_Rose517   \n",
       "\n",
       "  Found the perfect title for my portfolio.  its from a song that i love   \n",
       "0  my new anti-virus ive just installed seems to ...                       \n",
       "1  fact: i still love him...you learn from mistak...                       \n",
       "2  i think i gotta make a new twitter account cuz...                       \n",
       "3  end of the weekend....back to work tomorrow  W...                       \n",
       "4            @mitchelmusso LOVE the album!!  reply??                       "
      ]
     },
     "execution_count": 107,
     "metadata": {},
     "output_type": "execute_result"
    }
   ],
   "source": [
    "twitter_data.head()"
   ]
  },
  {
   "cell_type": "code",
   "execution_count": 108,
   "metadata": {
    "id": "Rw6UvAhJdBlV"
   },
   "outputs": [],
   "source": [
    "#naming the columns and reading the dataset again\n",
    "\n",
    "column_names = ['target', 'id' , 'date', 'flag' , 'user' , 'text']\n",
    "twitter_data=pd.read_csv('balanced_data.csv', names = column_names , encoding = 'ISO-8859-1')"
   ]
  },
  {
   "cell_type": "code",
   "execution_count": 109,
   "metadata": {
    "colab": {
     "base_uri": "https://localhost:8080/"
    },
    "id": "iL8gJU7qeGX3",
    "outputId": "a2d14e58-5943-4901-d1e0-903a60597a3c"
   },
   "outputs": [
    {
     "data": {
      "text/plain": [
       "(10000, 6)"
      ]
     },
     "execution_count": 109,
     "metadata": {},
     "output_type": "execute_result"
    }
   ],
   "source": [
    "twitter_data.shape\n",
    "\n"
   ]
  },
  {
   "cell_type": "code",
   "execution_count": 110,
   "metadata": {
    "colab": {
     "base_uri": "https://localhost:8080/",
     "height": 206
    },
    "id": "rBEwlBJXeUDh",
    "outputId": "12f3e644-2ac2-478d-a891-8fdfce99b009"
   },
   "outputs": [
    {
     "data": {
      "text/html": [
       "<div>\n",
       "<style scoped>\n",
       "    .dataframe tbody tr th:only-of-type {\n",
       "        vertical-align: middle;\n",
       "    }\n",
       "\n",
       "    .dataframe tbody tr th {\n",
       "        vertical-align: top;\n",
       "    }\n",
       "\n",
       "    .dataframe thead th {\n",
       "        text-align: right;\n",
       "    }\n",
       "</style>\n",
       "<table border=\"1\" class=\"dataframe\">\n",
       "  <thead>\n",
       "    <tr style=\"text-align: right;\">\n",
       "      <th></th>\n",
       "      <th>target</th>\n",
       "      <th>id</th>\n",
       "      <th>date</th>\n",
       "      <th>flag</th>\n",
       "      <th>user</th>\n",
       "      <th>text</th>\n",
       "    </tr>\n",
       "  </thead>\n",
       "  <tbody>\n",
       "    <tr>\n",
       "      <th>0</th>\n",
       "      <td>4</td>\n",
       "      <td>1991330743</td>\n",
       "      <td>Mon Jun 01 06:50:34 PDT 2009</td>\n",
       "      <td>NO_QUERY</td>\n",
       "      <td>BRUNETTEBARBIEE</td>\n",
       "      <td>Found the perfect title for my portfolio.  its...</td>\n",
       "    </tr>\n",
       "    <tr>\n",
       "      <th>1</th>\n",
       "      <td>0</td>\n",
       "      <td>1881517921</td>\n",
       "      <td>Fri May 22 04:52:46 PDT 2009</td>\n",
       "      <td>NO_QUERY</td>\n",
       "      <td>petdoctorforum</td>\n",
       "      <td>my new anti-virus ive just installed seems to ...</td>\n",
       "    </tr>\n",
       "    <tr>\n",
       "      <th>2</th>\n",
       "      <td>0</td>\n",
       "      <td>2051830441</td>\n",
       "      <td>Fri Jun 05 22:55:06 PDT 2009</td>\n",
       "      <td>NO_QUERY</td>\n",
       "      <td>juliecastle_9</td>\n",
       "      <td>fact: i still love him...you learn from mistak...</td>\n",
       "    </tr>\n",
       "    <tr>\n",
       "      <th>3</th>\n",
       "      <td>0</td>\n",
       "      <td>1988997171</td>\n",
       "      <td>Mon Jun 01 00:00:59 PDT 2009</td>\n",
       "      <td>NO_QUERY</td>\n",
       "      <td>sojufied</td>\n",
       "      <td>i think i gotta make a new twitter account cuz...</td>\n",
       "    </tr>\n",
       "    <tr>\n",
       "      <th>4</th>\n",
       "      <td>0</td>\n",
       "      <td>2070776908</td>\n",
       "      <td>Sun Jun 07 18:16:45 PDT 2009</td>\n",
       "      <td>NO_QUERY</td>\n",
       "      <td>janicetertel</td>\n",
       "      <td>end of the weekend....back to work tomorrow  W...</td>\n",
       "    </tr>\n",
       "  </tbody>\n",
       "</table>\n",
       "</div>"
      ],
      "text/plain": [
       "   target          id                          date      flag  \\\n",
       "0       4  1991330743  Mon Jun 01 06:50:34 PDT 2009  NO_QUERY   \n",
       "1       0  1881517921  Fri May 22 04:52:46 PDT 2009  NO_QUERY   \n",
       "2       0  2051830441  Fri Jun 05 22:55:06 PDT 2009  NO_QUERY   \n",
       "3       0  1988997171  Mon Jun 01 00:00:59 PDT 2009  NO_QUERY   \n",
       "4       0  2070776908  Sun Jun 07 18:16:45 PDT 2009  NO_QUERY   \n",
       "\n",
       "              user                                               text  \n",
       "0  BRUNETTEBARBIEE  Found the perfect title for my portfolio.  its...  \n",
       "1   petdoctorforum  my new anti-virus ive just installed seems to ...  \n",
       "2    juliecastle_9  fact: i still love him...you learn from mistak...  \n",
       "3         sojufied  i think i gotta make a new twitter account cuz...  \n",
       "4     janicetertel  end of the weekend....back to work tomorrow  W...  "
      ]
     },
     "execution_count": 110,
     "metadata": {},
     "output_type": "execute_result"
    }
   ],
   "source": [
    "twitter_data.head()"
   ]
  },
  {
   "cell_type": "code",
   "execution_count": 111,
   "metadata": {
    "colab": {
     "base_uri": "https://localhost:8080/"
    },
    "id": "fCpoHd6jeipd",
    "outputId": "a0d42cfb-eead-4091-aabd-7edbf3891c98"
   },
   "outputs": [
    {
     "data": {
      "text/plain": [
       "target    0\n",
       "id        0\n",
       "date      0\n",
       "flag      0\n",
       "user      0\n",
       "text      0\n",
       "dtype: int64"
      ]
     },
     "execution_count": 111,
     "metadata": {},
     "output_type": "execute_result"
    }
   ],
   "source": [
    "#counting the number of missing values\n",
    "twitter_data.isnull().sum()"
   ]
  },
  {
   "cell_type": "code",
   "execution_count": 112,
   "metadata": {
    "colab": {
     "base_uri": "https://localhost:8080/"
    },
    "id": "OreOLMnYe8PE",
    "outputId": "ea6b8c71-818e-4e7d-f186-872d995c0c21"
   },
   "outputs": [
    {
     "data": {
      "text/plain": [
       "target\n",
       "4    5000\n",
       "0    5000\n",
       "Name: count, dtype: int64"
      ]
     },
     "execution_count": 112,
     "metadata": {},
     "output_type": "execute_result"
    }
   ],
   "source": [
    "#checking the distribution of our target Column\n",
    "twitter_data['target'].value_counts()"
   ]
  },
  {
   "cell_type": "markdown",
   "metadata": {
    "id": "NN_Vcqstfywn"
   },
   "source": [
    "CONVERT THE TARGET '4' TO '1'"
   ]
  },
  {
   "cell_type": "code",
   "execution_count": 113,
   "metadata": {
    "colab": {
     "base_uri": "https://localhost:8080/"
    },
    "id": "ryS7tctITd3i",
    "outputId": "11880b72-6584-4d1c-9ba9-a9f41efc2c9b"
   },
   "outputs": [],
   "source": [
    "#from google.colab import drive\n",
    "#drive.mount('/content/drive')"
   ]
  },
  {
   "cell_type": "code",
   "execution_count": 114,
   "metadata": {
    "id": "ry0oInt7f6EL"
   },
   "outputs": [],
   "source": [
    "twitter_data.replace({'target':{4:1}} , inplace =True)"
   ]
  },
  {
   "cell_type": "code",
   "execution_count": 115,
   "metadata": {
    "colab": {
     "base_uri": "https://localhost:8080/"
    },
    "id": "RImI_vRKgZUX",
    "outputId": "f7449a2d-9e82-4d3e-c8c1-af65c434dcbb"
   },
   "outputs": [
    {
     "data": {
      "text/plain": [
       "target\n",
       "1    5000\n",
       "0    5000\n",
       "Name: count, dtype: int64"
      ]
     },
     "execution_count": 115,
     "metadata": {},
     "output_type": "execute_result"
    }
   ],
   "source": [
    "#checking the distribution of our target Column\n",
    "twitter_data['target'].value_counts()"
   ]
  },
  {
   "cell_type": "markdown",
   "metadata": {
    "id": "mUxOnZERhL7T"
   },
   "source": [
    "0 --> NEGATIVE TWEET\n",
    "1 --> POSITIVE TWEET"
   ]
  },
  {
   "cell_type": "markdown",
   "metadata": {
    "id": "mxrV3gQhhVr2"
   },
   "source": [
    "**STEMMING**\n"
   ]
  },
  {
   "cell_type": "markdown",
   "metadata": {
    "id": "L0iAyrGPhb_N"
   },
   "source": [
    "The practice of reducing a word to its fundamental word is called stemming."
   ]
  },
  {
   "cell_type": "markdown",
   "metadata": {
    "id": "lxcEVrKIhqNr"
   },
   "source": [
    "Example : actor, actress , acting = act"
   ]
  },
  {
   "cell_type": "code",
   "execution_count": 116,
   "metadata": {
    "id": "z8Y1G1hDh7i3"
   },
   "outputs": [],
   "source": [
    "port_stem = PorterStemmer()\n"
   ]
  },
  {
   "cell_type": "code",
   "execution_count": 117,
   "metadata": {
    "id": "EX4teXs0hCt8"
   },
   "outputs": [],
   "source": [
    "def stemming(content):\n",
    "  stemmed_content = re.sub('[^a-zA-Z]', ' ',content )\n",
    "  stemmed_content = stemmed_content.lower()\n",
    "  stemmed_content = stemmed_content.split()\n",
    "  stemmed_content = [port_stem.stem(word) for word in  stemmed_content if not word in stopwords.words('english')]\n",
    "  stemmed_content = ' '.join(stemmed_content)\n",
    "\n",
    "  return stemmed_content"
   ]
  },
  {
   "cell_type": "code",
   "execution_count": 118,
   "metadata": {
    "id": "ezd-YMOLlxUb"
   },
   "outputs": [],
   "source": [
    "twitter_data['stemmed_content'] = twitter_data['text'].apply(stemming)  #here we have called our function stemming for the input as CONTENT from the twitter_data"
   ]
  },
  {
   "cell_type": "code",
   "execution_count": 119,
   "metadata": {
    "colab": {
     "base_uri": "https://localhost:8080/",
     "height": 293
    },
    "id": "6a152xOV8itW",
    "outputId": "979e3f13-98d5-4425-ff84-4de2e1ace83f"
   },
   "outputs": [
    {
     "data": {
      "text/html": [
       "<div>\n",
       "<style scoped>\n",
       "    .dataframe tbody tr th:only-of-type {\n",
       "        vertical-align: middle;\n",
       "    }\n",
       "\n",
       "    .dataframe tbody tr th {\n",
       "        vertical-align: top;\n",
       "    }\n",
       "\n",
       "    .dataframe thead th {\n",
       "        text-align: right;\n",
       "    }\n",
       "</style>\n",
       "<table border=\"1\" class=\"dataframe\">\n",
       "  <thead>\n",
       "    <tr style=\"text-align: right;\">\n",
       "      <th></th>\n",
       "      <th>target</th>\n",
       "      <th>id</th>\n",
       "      <th>date</th>\n",
       "      <th>flag</th>\n",
       "      <th>user</th>\n",
       "      <th>text</th>\n",
       "      <th>stemmed_content</th>\n",
       "    </tr>\n",
       "  </thead>\n",
       "  <tbody>\n",
       "    <tr>\n",
       "      <th>0</th>\n",
       "      <td>1</td>\n",
       "      <td>1991330743</td>\n",
       "      <td>Mon Jun 01 06:50:34 PDT 2009</td>\n",
       "      <td>NO_QUERY</td>\n",
       "      <td>BRUNETTEBARBIEE</td>\n",
       "      <td>Found the perfect title for my portfolio.  its...</td>\n",
       "      <td>found perfect titl portfolio song love</td>\n",
       "    </tr>\n",
       "    <tr>\n",
       "      <th>1</th>\n",
       "      <td>0</td>\n",
       "      <td>1881517921</td>\n",
       "      <td>Fri May 22 04:52:46 PDT 2009</td>\n",
       "      <td>NO_QUERY</td>\n",
       "      <td>petdoctorforum</td>\n",
       "      <td>my new anti-virus ive just installed seems to ...</td>\n",
       "      <td>new anti viru ive instal seem effect struggl o...</td>\n",
       "    </tr>\n",
       "    <tr>\n",
       "      <th>2</th>\n",
       "      <td>0</td>\n",
       "      <td>2051830441</td>\n",
       "      <td>Fri Jun 05 22:55:06 PDT 2009</td>\n",
       "      <td>NO_QUERY</td>\n",
       "      <td>juliecastle_9</td>\n",
       "      <td>fact: i still love him...you learn from mistak...</td>\n",
       "      <td>fact still love learn mistak hope repeat day</td>\n",
       "    </tr>\n",
       "    <tr>\n",
       "      <th>3</th>\n",
       "      <td>0</td>\n",
       "      <td>1988997171</td>\n",
       "      <td>Mon Jun 01 00:00:59 PDT 2009</td>\n",
       "      <td>NO_QUERY</td>\n",
       "      <td>sojufied</td>\n",
       "      <td>i think i gotta make a new twitter account cuz...</td>\n",
       "      <td>think gotta make new twitter account cuz quot ...</td>\n",
       "    </tr>\n",
       "    <tr>\n",
       "      <th>4</th>\n",
       "      <td>0</td>\n",
       "      <td>2070776908</td>\n",
       "      <td>Sun Jun 07 18:16:45 PDT 2009</td>\n",
       "      <td>NO_QUERY</td>\n",
       "      <td>janicetertel</td>\n",
       "      <td>end of the weekend....back to work tomorrow  W...</td>\n",
       "      <td>end weekend back work tomorrow need longer wee...</td>\n",
       "    </tr>\n",
       "  </tbody>\n",
       "</table>\n",
       "</div>"
      ],
      "text/plain": [
       "   target          id                          date      flag  \\\n",
       "0       1  1991330743  Mon Jun 01 06:50:34 PDT 2009  NO_QUERY   \n",
       "1       0  1881517921  Fri May 22 04:52:46 PDT 2009  NO_QUERY   \n",
       "2       0  2051830441  Fri Jun 05 22:55:06 PDT 2009  NO_QUERY   \n",
       "3       0  1988997171  Mon Jun 01 00:00:59 PDT 2009  NO_QUERY   \n",
       "4       0  2070776908  Sun Jun 07 18:16:45 PDT 2009  NO_QUERY   \n",
       "\n",
       "              user                                               text  \\\n",
       "0  BRUNETTEBARBIEE  Found the perfect title for my portfolio.  its...   \n",
       "1   petdoctorforum  my new anti-virus ive just installed seems to ...   \n",
       "2    juliecastle_9  fact: i still love him...you learn from mistak...   \n",
       "3         sojufied  i think i gotta make a new twitter account cuz...   \n",
       "4     janicetertel  end of the weekend....back to work tomorrow  W...   \n",
       "\n",
       "                                     stemmed_content  \n",
       "0             found perfect titl portfolio song love  \n",
       "1  new anti viru ive instal seem effect struggl o...  \n",
       "2       fact still love learn mistak hope repeat day  \n",
       "3  think gotta make new twitter account cuz quot ...  \n",
       "4  end weekend back work tomorrow need longer wee...  "
      ]
     },
     "execution_count": 119,
     "metadata": {},
     "output_type": "execute_result"
    }
   ],
   "source": [
    "twitter_data.head()"
   ]
  },
  {
   "cell_type": "code",
   "execution_count": 120,
   "metadata": {
    "colab": {
     "base_uri": "https://localhost:8080/"
    },
    "id": "DVvEhvW_fv08",
    "outputId": "2c84cd2a-1b7b-4d47-df7f-faf26d042290"
   },
   "outputs": [
    {
     "name": "stdout",
     "output_type": "stream",
     "text": [
      "0                  found perfect titl portfolio song love\n",
      "1       new anti viru ive instal seem effect struggl o...\n",
      "2            fact still love learn mistak hope repeat day\n",
      "3       think gotta make new twitter account cuz quot ...\n",
      "4       end weekend back work tomorrow need longer wee...\n",
      "                              ...                        \n",
      "9995                  love onu admiss ba alway good laugh\n",
      "9996    wait mum friend come gonna teach drive land ro...\n",
      "9997    lisa veronica hey lisa wait see us look forwar...\n",
      "9998          got back church broke foot caught holyghost\n",
      "9999    rafaeloyama hey im hey monday fan song like al...\n",
      "Name: stemmed_content, Length: 10000, dtype: object\n"
     ]
    }
   ],
   "source": [
    "print(twitter_data['stemmed_content']) #here we printed the stemmed data"
   ]
  },
  {
   "cell_type": "code",
   "execution_count": 121,
   "metadata": {
    "colab": {
     "base_uri": "https://localhost:8080/"
    },
    "id": "n_rhi-nyhooR",
    "outputId": "57f58e74-dad3-4612-b2d8-48b3f943f83b"
   },
   "outputs": [
    {
     "name": "stdout",
     "output_type": "stream",
     "text": [
      "0       1\n",
      "1       0\n",
      "2       0\n",
      "3       0\n",
      "4       0\n",
      "       ..\n",
      "9995    1\n",
      "9996    1\n",
      "9997    1\n",
      "9998    0\n",
      "9999    1\n",
      "Name: target, Length: 10000, dtype: int64\n"
     ]
    }
   ],
   "source": [
    "print(twitter_data['target'])"
   ]
  },
  {
   "cell_type": "code",
   "execution_count": 122,
   "metadata": {
    "id": "5zxPKq5uiHHc"
   },
   "outputs": [],
   "source": [
    "#Seperate the label and the data\n",
    "X= twitter_data['stemmed_content'].values\n",
    "Y= twitter_data['target'].values"
   ]
  },
  {
   "cell_type": "code",
   "execution_count": 123,
   "metadata": {
    "colab": {
     "base_uri": "https://localhost:8080/"
    },
    "id": "P49cImMRjlDf",
    "outputId": "7c54dd14-8716-4739-9f96-1ebe6c63be64"
   },
   "outputs": [
    {
     "name": "stdout",
     "output_type": "stream",
     "text": [
      "['found perfect titl portfolio song love'\n",
      " 'new anti viru ive instal seem effect struggl open anyth internet'\n",
      " 'fact still love learn mistak hope repeat day' ...\n",
      " 'lisa veronica hey lisa wait see us look forward pretti reckless well take care'\n",
      " 'got back church broke foot caught holyghost'\n",
      " 'rafaeloyama hey im hey monday fan song like album like demi']\n"
     ]
    }
   ],
   "source": [
    "print(X)\n"
   ]
  },
  {
   "cell_type": "code",
   "execution_count": 124,
   "metadata": {
    "colab": {
     "base_uri": "https://localhost:8080/"
    },
    "id": "ODBc6xJZjv82",
    "outputId": "e11ff7b1-2264-450a-a7d1-b7ed9670b6e7"
   },
   "outputs": [
    {
     "name": "stdout",
     "output_type": "stream",
     "text": [
      "[1 0 0 ... 1 0 1]\n"
     ]
    }
   ],
   "source": [
    "print(Y)"
   ]
  },
  {
   "cell_type": "code",
   "execution_count": 125,
   "metadata": {
    "id": "BdvEezR7jxJ6"
   },
   "outputs": [],
   "source": [
    "X_train,X_test,Y_train,Y_test = train_test_split( X , Y , test_size = 0.2 , stratify=Y , random_state=2)"
   ]
  },
  {
   "cell_type": "code",
   "execution_count": 126,
   "metadata": {
    "colab": {
     "base_uri": "https://localhost:8080/"
    },
    "id": "jK2WDWaOk-aq",
    "outputId": "72bbce3d-1254-4877-b0e3-0b49ff87891d"
   },
   "outputs": [
    {
     "name": "stdout",
     "output_type": "stream",
     "text": [
      "(10000,) (8000,) (2000,)\n"
     ]
    }
   ],
   "source": [
    "print(X.shape , X_train.shape , X_test.shape)"
   ]
  },
  {
   "cell_type": "code",
   "execution_count": 127,
   "metadata": {
    "colab": {
     "base_uri": "https://localhost:8080/"
    },
    "id": "2xu758Z9lU-E",
    "outputId": "027dc4de-8a51-472d-fd06-4905644b260c"
   },
   "outputs": [
    {
     "name": "stdout",
     "output_type": "stream",
     "text": [
      "['jbnvfclover haha know'\n",
      " 'rli wish take nap instead wait peopl come look hous'\n",
      " 'myinkyfingersau snowyowle honeyjojam snag coffe crumpet snuggl yeah wasp hubbi vanquis nobli'\n",
      " ... 'saraacoop nope troop yong bloor workout suppli mean troop'\n",
      " 'hhume ohh haha ahhh wanna go parti park'\n",
      " 'ddlovato ye final home hope go perfect']\n"
     ]
    }
   ],
   "source": [
    "print(X_train)"
   ]
  },
  {
   "cell_type": "code",
   "execution_count": 128,
   "metadata": {
    "colab": {
     "base_uri": "https://localhost:8080/"
    },
    "id": "FQxYa2abmsSJ",
    "outputId": "c62b1969-5636-49a8-a046-d4ce2682c234"
   },
   "outputs": [
    {
     "name": "stdout",
     "output_type": "stream",
     "text": [
      "['ughhh get work go long day'\n",
      " 'cant believ come run give quot plenti fish sea quot speech'\n",
      " 'time shower tidi go go lunch friend lake side hope sun peep littl fun'\n",
      " ... 'final finish littl princ soo good'\n",
      " 'dubarrymcfli yeah would cool want next weekend hurri lol xxx'\n",
      " 'ok realli want make twatter com quot bitch bite nippl quot']\n"
     ]
    }
   ],
   "source": [
    "print(X_test)"
   ]
  },
  {
   "cell_type": "code",
   "execution_count": 129,
   "metadata": {
    "id": "GvDAE5w-mulh"
   },
   "outputs": [],
   "source": [
    "#conversion from textual to numeric data\n",
    "\n",
    "vectorizer =  TfidfVectorizer()\n",
    "X_train=vectorizer.fit_transform(X_train)\n",
    "X_test=vectorizer.transform(X_test)"
   ]
  },
  {
   "cell_type": "code",
   "execution_count": 130,
   "metadata": {
    "id": "WOUseLKSs9J9"
   },
   "outputs": [
    {
     "name": "stdout",
     "output_type": "stream",
     "text": [
      "  (0, 6264)\t0.3793944427283553\n",
      "  (0, 4711)\t0.4372125333387804\n",
      "  (0, 5711)\t0.8154171064665778\n",
      "  (1, 5140)\t0.3126983025176187\n",
      "  (1, 6753)\t0.2462481410649984\n",
      "  (1, 2278)\t0.24264044962221704\n",
      "  (1, 8623)\t0.2745853653955927\n",
      "  (1, 12320)\t0.260936747445089\n",
      "  (1, 5456)\t0.37110509290726273\n",
      "  (1, 7810)\t0.36061186461812417\n",
      "  (1, 11114)\t0.2595422438577077\n",
      "  (1, 12593)\t0.26058461961285856\n",
      "  (1, 9591)\t0.4859996919387574\n",
      "  (2, 8027)\t0.31029122325122677\n",
      "  (2, 12134)\t0.31029122325122677\n",
      "  (2, 5174)\t0.2565592375339515\n",
      "  (2, 12372)\t0.31029122325122677\n",
      "  (2, 12837)\t0.1725045313153249\n",
      "  (2, 10466)\t0.29675454362574705\n",
      "  (2, 2551)\t0.31029122325122677\n",
      "  (2, 2239)\t0.21473504449719114\n",
      "  (2, 10438)\t0.31029122325122677\n",
      "  (2, 5096)\t0.31029122325122677\n",
      "  (2, 10463)\t0.31029122325122677\n",
      "  (2, 7750)\t0.31029122325122677\n",
      "  :\t:\n",
      "  (7996, 10201)\t0.29588269027336456\n",
      "  (7996, 12377)\t0.2540157628478748\n",
      "  (7997, 1256)\t0.32436307150726745\n",
      "  (7997, 12900)\t0.32436307150726745\n",
      "  (7997, 11766)\t0.6487261430145349\n",
      "  (7997, 9824)\t0.32436307150726745\n",
      "  (7997, 10981)\t0.29238488216361536\n",
      "  (7997, 8072)\t0.2476807903050239\n",
      "  (7997, 12671)\t0.27598193872503873\n",
      "  (7997, 7179)\t0.20129446388367384\n",
      "  (7998, 4980)\t0.500549689586477\n",
      "  (7998, 8205)\t0.40405218640638696\n",
      "  (7998, 8514)\t0.3765410175802123\n",
      "  (7998, 12348)\t0.2877503937840156\n",
      "  (7998, 195)\t0.3765410175802123\n",
      "  (7998, 8521)\t0.33407763566662546\n",
      "  (7998, 4464)\t0.19022702564474583\n",
      "  (7998, 4711)\t0.26838607641476286\n",
      "  (7999, 2801)\t0.47152929474643235\n",
      "  (7999, 12831)\t0.371779396538047\n",
      "  (7999, 5111)\t0.31581690120430433\n",
      "  (7999, 5077)\t0.32268806071846784\n",
      "  (7999, 3927)\t0.3807684205062575\n",
      "  (7999, 4464)\t0.24307377283505477\n",
      "  (7999, 8634)\t0.4811474366492095\n"
     ]
    }
   ],
   "source": [
    "print(X_train)\n"
   ]
  },
  {
   "cell_type": "code",
   "execution_count": 131,
   "metadata": {
    "id": "6_m-bsmbtstd"
   },
   "outputs": [
    {
     "name": "stdout",
     "output_type": "stream",
     "text": [
      "  (0, 12663)\t0.3066760214890747\n",
      "  (0, 11947)\t0.6762458756425311\n",
      "  (0, 6746)\t0.4397331701720937\n",
      "  (0, 4464)\t0.2777091217470457\n",
      "  (0, 4364)\t0.295222626896164\n",
      "  (0, 2778)\t0.3016576152486661\n",
      "  (1, 10633)\t0.3646733184621627\n",
      "  (1, 9949)\t0.3743863319532119\n",
      "  (1, 9719)\t0.2680756204643496\n",
      "  (1, 9197)\t0.4173791380684621\n",
      "  (1, 8822)\t0.3743863319532119\n",
      "  (1, 4422)\t0.2635842073237334\n",
      "  (1, 3957)\t0.31404358060404725\n",
      "  (1, 2278)\t0.20197968374290903\n",
      "  (1, 1744)\t0.23384168333545424\n",
      "  (1, 1036)\t0.2775527087487682\n",
      "  (2, 11504)\t0.18850383098363913\n",
      "  (2, 10944)\t0.28822921984905864\n",
      "  (2, 10245)\t0.3473690977194854\n",
      "  (2, 10203)\t0.323383388967789\n",
      "  (2, 8606)\t0.3704596787619168\n",
      "  (2, 6862)\t0.2847051654403786\n",
      "  (2, 6673)\t0.25751226281792255\n",
      "  (2, 6376)\t0.3473690977194854\n",
      "  (2, 5111)\t0.20744133701753373\n",
      "  :\t:\n",
      "  (1996, 3992)\t0.24041951390967586\n",
      "  (1996, 437)\t0.2628113158720127\n",
      "  (1997, 10550)\t0.4243011849908711\n",
      "  (1997, 9015)\t0.5956969534864195\n",
      "  (1997, 6673)\t0.36513232142894675\n",
      "  (1997, 4496)\t0.2467343213011989\n",
      "  (1997, 3940)\t0.38098959772744245\n",
      "  (1997, 3927)\t0.3546281615802217\n",
      "  (1998, 12837)\t0.2901217507627714\n",
      "  (1998, 12785)\t0.3925675242875768\n",
      "  (1998, 12687)\t0.2978786901614714\n",
      "  (1998, 12431)\t0.29999775436550635\n",
      "  (1998, 12350)\t0.25188590838399416\n",
      "  (1998, 7924)\t0.29840100590052765\n",
      "  (1998, 6735)\t0.2466386496587241\n",
      "  (1998, 5212)\t0.5218543086929944\n",
      "  (1998, 2381)\t0.3119896276490739\n",
      "  (1999, 12350)\t0.24777687796095244\n",
      "  (1999, 9325)\t0.24732783010142112\n",
      "  (1999, 9197)\t0.5296103164784945\n",
      "  (1999, 8218)\t0.31697021195634195\n",
      "  (1999, 6958)\t0.2584362423975623\n",
      "  (1999, 2270)\t0.24241027320963862\n",
      "  (1999, 1173)\t0.4367726493830025\n",
      "  (1999, 1171)\t0.4244478547783649\n"
     ]
    }
   ],
   "source": [
    "print(X_test)"
   ]
  },
  {
   "cell_type": "markdown",
   "metadata": {
    "id": "CmRfmwkpGH1P"
   },
   "source": [
    "TRAINING THE ML MODEL | LOGISTIC REGRESSION"
   ]
  },
  {
   "cell_type": "code",
   "execution_count": 132,
   "metadata": {
    "id": "CR3QyIyjtvOc"
   },
   "outputs": [],
   "source": [
    "model = LogisticRegression(max_iter = 1000)\n"
   ]
  },
  {
   "cell_type": "code",
   "execution_count": 133,
   "metadata": {
    "id": "dzZPBt1nPcjM"
   },
   "outputs": [
    {
     "data": {
      "text/html": [
       "<style>#sk-container-id-2 {\n",
       "  /* Definition of color scheme common for light and dark mode */\n",
       "  --sklearn-color-text: black;\n",
       "  --sklearn-color-line: gray;\n",
       "  /* Definition of color scheme for unfitted estimators */\n",
       "  --sklearn-color-unfitted-level-0: #fff5e6;\n",
       "  --sklearn-color-unfitted-level-1: #f6e4d2;\n",
       "  --sklearn-color-unfitted-level-2: #ffe0b3;\n",
       "  --sklearn-color-unfitted-level-3: chocolate;\n",
       "  /* Definition of color scheme for fitted estimators */\n",
       "  --sklearn-color-fitted-level-0: #f0f8ff;\n",
       "  --sklearn-color-fitted-level-1: #d4ebff;\n",
       "  --sklearn-color-fitted-level-2: #b3dbfd;\n",
       "  --sklearn-color-fitted-level-3: cornflowerblue;\n",
       "\n",
       "  /* Specific color for light theme */\n",
       "  --sklearn-color-text-on-default-background: var(--sg-text-color, var(--theme-code-foreground, var(--jp-content-font-color1, black)));\n",
       "  --sklearn-color-background: var(--sg-background-color, var(--theme-background, var(--jp-layout-color0, white)));\n",
       "  --sklearn-color-border-box: var(--sg-text-color, var(--theme-code-foreground, var(--jp-content-font-color1, black)));\n",
       "  --sklearn-color-icon: #696969;\n",
       "\n",
       "  @media (prefers-color-scheme: dark) {\n",
       "    /* Redefinition of color scheme for dark theme */\n",
       "    --sklearn-color-text-on-default-background: var(--sg-text-color, var(--theme-code-foreground, var(--jp-content-font-color1, white)));\n",
       "    --sklearn-color-background: var(--sg-background-color, var(--theme-background, var(--jp-layout-color0, #111)));\n",
       "    --sklearn-color-border-box: var(--sg-text-color, var(--theme-code-foreground, var(--jp-content-font-color1, white)));\n",
       "    --sklearn-color-icon: #878787;\n",
       "  }\n",
       "}\n",
       "\n",
       "#sk-container-id-2 {\n",
       "  color: var(--sklearn-color-text);\n",
       "}\n",
       "\n",
       "#sk-container-id-2 pre {\n",
       "  padding: 0;\n",
       "}\n",
       "\n",
       "#sk-container-id-2 input.sk-hidden--visually {\n",
       "  border: 0;\n",
       "  clip: rect(1px 1px 1px 1px);\n",
       "  clip: rect(1px, 1px, 1px, 1px);\n",
       "  height: 1px;\n",
       "  margin: -1px;\n",
       "  overflow: hidden;\n",
       "  padding: 0;\n",
       "  position: absolute;\n",
       "  width: 1px;\n",
       "}\n",
       "\n",
       "#sk-container-id-2 div.sk-dashed-wrapped {\n",
       "  border: 1px dashed var(--sklearn-color-line);\n",
       "  margin: 0 0.4em 0.5em 0.4em;\n",
       "  box-sizing: border-box;\n",
       "  padding-bottom: 0.4em;\n",
       "  background-color: var(--sklearn-color-background);\n",
       "}\n",
       "\n",
       "#sk-container-id-2 div.sk-container {\n",
       "  /* jupyter's `normalize.less` sets `[hidden] { display: none; }`\n",
       "     but bootstrap.min.css set `[hidden] { display: none !important; }`\n",
       "     so we also need the `!important` here to be able to override the\n",
       "     default hidden behavior on the sphinx rendered scikit-learn.org.\n",
       "     See: https://github.com/scikit-learn/scikit-learn/issues/21755 */\n",
       "  display: inline-block !important;\n",
       "  position: relative;\n",
       "}\n",
       "\n",
       "#sk-container-id-2 div.sk-text-repr-fallback {\n",
       "  display: none;\n",
       "}\n",
       "\n",
       "div.sk-parallel-item,\n",
       "div.sk-serial,\n",
       "div.sk-item {\n",
       "  /* draw centered vertical line to link estimators */\n",
       "  background-image: linear-gradient(var(--sklearn-color-text-on-default-background), var(--sklearn-color-text-on-default-background));\n",
       "  background-size: 2px 100%;\n",
       "  background-repeat: no-repeat;\n",
       "  background-position: center center;\n",
       "}\n",
       "\n",
       "/* Parallel-specific style estimator block */\n",
       "\n",
       "#sk-container-id-2 div.sk-parallel-item::after {\n",
       "  content: \"\";\n",
       "  width: 100%;\n",
       "  border-bottom: 2px solid var(--sklearn-color-text-on-default-background);\n",
       "  flex-grow: 1;\n",
       "}\n",
       "\n",
       "#sk-container-id-2 div.sk-parallel {\n",
       "  display: flex;\n",
       "  align-items: stretch;\n",
       "  justify-content: center;\n",
       "  background-color: var(--sklearn-color-background);\n",
       "  position: relative;\n",
       "}\n",
       "\n",
       "#sk-container-id-2 div.sk-parallel-item {\n",
       "  display: flex;\n",
       "  flex-direction: column;\n",
       "}\n",
       "\n",
       "#sk-container-id-2 div.sk-parallel-item:first-child::after {\n",
       "  align-self: flex-end;\n",
       "  width: 50%;\n",
       "}\n",
       "\n",
       "#sk-container-id-2 div.sk-parallel-item:last-child::after {\n",
       "  align-self: flex-start;\n",
       "  width: 50%;\n",
       "}\n",
       "\n",
       "#sk-container-id-2 div.sk-parallel-item:only-child::after {\n",
       "  width: 0;\n",
       "}\n",
       "\n",
       "/* Serial-specific style estimator block */\n",
       "\n",
       "#sk-container-id-2 div.sk-serial {\n",
       "  display: flex;\n",
       "  flex-direction: column;\n",
       "  align-items: center;\n",
       "  background-color: var(--sklearn-color-background);\n",
       "  padding-right: 1em;\n",
       "  padding-left: 1em;\n",
       "}\n",
       "\n",
       "\n",
       "/* Toggleable style: style used for estimator/Pipeline/ColumnTransformer box that is\n",
       "clickable and can be expanded/collapsed.\n",
       "- Pipeline and ColumnTransformer use this feature and define the default style\n",
       "- Estimators will overwrite some part of the style using the `sk-estimator` class\n",
       "*/\n",
       "\n",
       "/* Pipeline and ColumnTransformer style (default) */\n",
       "\n",
       "#sk-container-id-2 div.sk-toggleable {\n",
       "  /* Default theme specific background. It is overwritten whether we have a\n",
       "  specific estimator or a Pipeline/ColumnTransformer */\n",
       "  background-color: var(--sklearn-color-background);\n",
       "}\n",
       "\n",
       "/* Toggleable label */\n",
       "#sk-container-id-2 label.sk-toggleable__label {\n",
       "  cursor: pointer;\n",
       "  display: block;\n",
       "  width: 100%;\n",
       "  margin-bottom: 0;\n",
       "  padding: 0.5em;\n",
       "  box-sizing: border-box;\n",
       "  text-align: center;\n",
       "}\n",
       "\n",
       "#sk-container-id-2 label.sk-toggleable__label-arrow:before {\n",
       "  /* Arrow on the left of the label */\n",
       "  content: \"▸\";\n",
       "  float: left;\n",
       "  margin-right: 0.25em;\n",
       "  color: var(--sklearn-color-icon);\n",
       "}\n",
       "\n",
       "#sk-container-id-2 label.sk-toggleable__label-arrow:hover:before {\n",
       "  color: var(--sklearn-color-text);\n",
       "}\n",
       "\n",
       "/* Toggleable content - dropdown */\n",
       "\n",
       "#sk-container-id-2 div.sk-toggleable__content {\n",
       "  max-height: 0;\n",
       "  max-width: 0;\n",
       "  overflow: hidden;\n",
       "  text-align: left;\n",
       "  /* unfitted */\n",
       "  background-color: var(--sklearn-color-unfitted-level-0);\n",
       "}\n",
       "\n",
       "#sk-container-id-2 div.sk-toggleable__content.fitted {\n",
       "  /* fitted */\n",
       "  background-color: var(--sklearn-color-fitted-level-0);\n",
       "}\n",
       "\n",
       "#sk-container-id-2 div.sk-toggleable__content pre {\n",
       "  margin: 0.2em;\n",
       "  border-radius: 0.25em;\n",
       "  color: var(--sklearn-color-text);\n",
       "  /* unfitted */\n",
       "  background-color: var(--sklearn-color-unfitted-level-0);\n",
       "}\n",
       "\n",
       "#sk-container-id-2 div.sk-toggleable__content.fitted pre {\n",
       "  /* unfitted */\n",
       "  background-color: var(--sklearn-color-fitted-level-0);\n",
       "}\n",
       "\n",
       "#sk-container-id-2 input.sk-toggleable__control:checked~div.sk-toggleable__content {\n",
       "  /* Expand drop-down */\n",
       "  max-height: 200px;\n",
       "  max-width: 100%;\n",
       "  overflow: auto;\n",
       "}\n",
       "\n",
       "#sk-container-id-2 input.sk-toggleable__control:checked~label.sk-toggleable__label-arrow:before {\n",
       "  content: \"▾\";\n",
       "}\n",
       "\n",
       "/* Pipeline/ColumnTransformer-specific style */\n",
       "\n",
       "#sk-container-id-2 div.sk-label input.sk-toggleable__control:checked~label.sk-toggleable__label {\n",
       "  color: var(--sklearn-color-text);\n",
       "  background-color: var(--sklearn-color-unfitted-level-2);\n",
       "}\n",
       "\n",
       "#sk-container-id-2 div.sk-label.fitted input.sk-toggleable__control:checked~label.sk-toggleable__label {\n",
       "  background-color: var(--sklearn-color-fitted-level-2);\n",
       "}\n",
       "\n",
       "/* Estimator-specific style */\n",
       "\n",
       "/* Colorize estimator box */\n",
       "#sk-container-id-2 div.sk-estimator input.sk-toggleable__control:checked~label.sk-toggleable__label {\n",
       "  /* unfitted */\n",
       "  background-color: var(--sklearn-color-unfitted-level-2);\n",
       "}\n",
       "\n",
       "#sk-container-id-2 div.sk-estimator.fitted input.sk-toggleable__control:checked~label.sk-toggleable__label {\n",
       "  /* fitted */\n",
       "  background-color: var(--sklearn-color-fitted-level-2);\n",
       "}\n",
       "\n",
       "#sk-container-id-2 div.sk-label label.sk-toggleable__label,\n",
       "#sk-container-id-2 div.sk-label label {\n",
       "  /* The background is the default theme color */\n",
       "  color: var(--sklearn-color-text-on-default-background);\n",
       "}\n",
       "\n",
       "/* On hover, darken the color of the background */\n",
       "#sk-container-id-2 div.sk-label:hover label.sk-toggleable__label {\n",
       "  color: var(--sklearn-color-text);\n",
       "  background-color: var(--sklearn-color-unfitted-level-2);\n",
       "}\n",
       "\n",
       "/* Label box, darken color on hover, fitted */\n",
       "#sk-container-id-2 div.sk-label.fitted:hover label.sk-toggleable__label.fitted {\n",
       "  color: var(--sklearn-color-text);\n",
       "  background-color: var(--sklearn-color-fitted-level-2);\n",
       "}\n",
       "\n",
       "/* Estimator label */\n",
       "\n",
       "#sk-container-id-2 div.sk-label label {\n",
       "  font-family: monospace;\n",
       "  font-weight: bold;\n",
       "  display: inline-block;\n",
       "  line-height: 1.2em;\n",
       "}\n",
       "\n",
       "#sk-container-id-2 div.sk-label-container {\n",
       "  text-align: center;\n",
       "}\n",
       "\n",
       "/* Estimator-specific */\n",
       "#sk-container-id-2 div.sk-estimator {\n",
       "  font-family: monospace;\n",
       "  border: 1px dotted var(--sklearn-color-border-box);\n",
       "  border-radius: 0.25em;\n",
       "  box-sizing: border-box;\n",
       "  margin-bottom: 0.5em;\n",
       "  /* unfitted */\n",
       "  background-color: var(--sklearn-color-unfitted-level-0);\n",
       "}\n",
       "\n",
       "#sk-container-id-2 div.sk-estimator.fitted {\n",
       "  /* fitted */\n",
       "  background-color: var(--sklearn-color-fitted-level-0);\n",
       "}\n",
       "\n",
       "/* on hover */\n",
       "#sk-container-id-2 div.sk-estimator:hover {\n",
       "  /* unfitted */\n",
       "  background-color: var(--sklearn-color-unfitted-level-2);\n",
       "}\n",
       "\n",
       "#sk-container-id-2 div.sk-estimator.fitted:hover {\n",
       "  /* fitted */\n",
       "  background-color: var(--sklearn-color-fitted-level-2);\n",
       "}\n",
       "\n",
       "/* Specification for estimator info (e.g. \"i\" and \"?\") */\n",
       "\n",
       "/* Common style for \"i\" and \"?\" */\n",
       "\n",
       ".sk-estimator-doc-link,\n",
       "a:link.sk-estimator-doc-link,\n",
       "a:visited.sk-estimator-doc-link {\n",
       "  float: right;\n",
       "  font-size: smaller;\n",
       "  line-height: 1em;\n",
       "  font-family: monospace;\n",
       "  background-color: var(--sklearn-color-background);\n",
       "  border-radius: 1em;\n",
       "  height: 1em;\n",
       "  width: 1em;\n",
       "  text-decoration: none !important;\n",
       "  margin-left: 1ex;\n",
       "  /* unfitted */\n",
       "  border: var(--sklearn-color-unfitted-level-1) 1pt solid;\n",
       "  color: var(--sklearn-color-unfitted-level-1);\n",
       "}\n",
       "\n",
       ".sk-estimator-doc-link.fitted,\n",
       "a:link.sk-estimator-doc-link.fitted,\n",
       "a:visited.sk-estimator-doc-link.fitted {\n",
       "  /* fitted */\n",
       "  border: var(--sklearn-color-fitted-level-1) 1pt solid;\n",
       "  color: var(--sklearn-color-fitted-level-1);\n",
       "}\n",
       "\n",
       "/* On hover */\n",
       "div.sk-estimator:hover .sk-estimator-doc-link:hover,\n",
       ".sk-estimator-doc-link:hover,\n",
       "div.sk-label-container:hover .sk-estimator-doc-link:hover,\n",
       ".sk-estimator-doc-link:hover {\n",
       "  /* unfitted */\n",
       "  background-color: var(--sklearn-color-unfitted-level-3);\n",
       "  color: var(--sklearn-color-background);\n",
       "  text-decoration: none;\n",
       "}\n",
       "\n",
       "div.sk-estimator.fitted:hover .sk-estimator-doc-link.fitted:hover,\n",
       ".sk-estimator-doc-link.fitted:hover,\n",
       "div.sk-label-container:hover .sk-estimator-doc-link.fitted:hover,\n",
       ".sk-estimator-doc-link.fitted:hover {\n",
       "  /* fitted */\n",
       "  background-color: var(--sklearn-color-fitted-level-3);\n",
       "  color: var(--sklearn-color-background);\n",
       "  text-decoration: none;\n",
       "}\n",
       "\n",
       "/* Span, style for the box shown on hovering the info icon */\n",
       ".sk-estimator-doc-link span {\n",
       "  display: none;\n",
       "  z-index: 9999;\n",
       "  position: relative;\n",
       "  font-weight: normal;\n",
       "  right: .2ex;\n",
       "  padding: .5ex;\n",
       "  margin: .5ex;\n",
       "  width: min-content;\n",
       "  min-width: 20ex;\n",
       "  max-width: 50ex;\n",
       "  color: var(--sklearn-color-text);\n",
       "  box-shadow: 2pt 2pt 4pt #999;\n",
       "  /* unfitted */\n",
       "  background: var(--sklearn-color-unfitted-level-0);\n",
       "  border: .5pt solid var(--sklearn-color-unfitted-level-3);\n",
       "}\n",
       "\n",
       ".sk-estimator-doc-link.fitted span {\n",
       "  /* fitted */\n",
       "  background: var(--sklearn-color-fitted-level-0);\n",
       "  border: var(--sklearn-color-fitted-level-3);\n",
       "}\n",
       "\n",
       ".sk-estimator-doc-link:hover span {\n",
       "  display: block;\n",
       "}\n",
       "\n",
       "/* \"?\"-specific style due to the `<a>` HTML tag */\n",
       "\n",
       "#sk-container-id-2 a.estimator_doc_link {\n",
       "  float: right;\n",
       "  font-size: 1rem;\n",
       "  line-height: 1em;\n",
       "  font-family: monospace;\n",
       "  background-color: var(--sklearn-color-background);\n",
       "  border-radius: 1rem;\n",
       "  height: 1rem;\n",
       "  width: 1rem;\n",
       "  text-decoration: none;\n",
       "  /* unfitted */\n",
       "  color: var(--sklearn-color-unfitted-level-1);\n",
       "  border: var(--sklearn-color-unfitted-level-1) 1pt solid;\n",
       "}\n",
       "\n",
       "#sk-container-id-2 a.estimator_doc_link.fitted {\n",
       "  /* fitted */\n",
       "  border: var(--sklearn-color-fitted-level-1) 1pt solid;\n",
       "  color: var(--sklearn-color-fitted-level-1);\n",
       "}\n",
       "\n",
       "/* On hover */\n",
       "#sk-container-id-2 a.estimator_doc_link:hover {\n",
       "  /* unfitted */\n",
       "  background-color: var(--sklearn-color-unfitted-level-3);\n",
       "  color: var(--sklearn-color-background);\n",
       "  text-decoration: none;\n",
       "}\n",
       "\n",
       "#sk-container-id-2 a.estimator_doc_link.fitted:hover {\n",
       "  /* fitted */\n",
       "  background-color: var(--sklearn-color-fitted-level-3);\n",
       "}\n",
       "</style><div id=\"sk-container-id-2\" class=\"sk-top-container\"><div class=\"sk-text-repr-fallback\"><pre>LogisticRegression(max_iter=1000)</pre><b>In a Jupyter environment, please rerun this cell to show the HTML representation or trust the notebook. <br />On GitHub, the HTML representation is unable to render, please try loading this page with nbviewer.org.</b></div><div class=\"sk-container\" hidden><div class=\"sk-item\"><div class=\"sk-estimator fitted sk-toggleable\"><input class=\"sk-toggleable__control sk-hidden--visually\" id=\"sk-estimator-id-2\" type=\"checkbox\" checked><label for=\"sk-estimator-id-2\" class=\"sk-toggleable__label fitted sk-toggleable__label-arrow fitted\">&nbsp;&nbsp;LogisticRegression<a class=\"sk-estimator-doc-link fitted\" rel=\"noreferrer\" target=\"_blank\" href=\"https://scikit-learn.org/1.4/modules/generated/sklearn.linear_model.LogisticRegression.html\">?<span>Documentation for LogisticRegression</span></a><span class=\"sk-estimator-doc-link fitted\">i<span>Fitted</span></span></label><div class=\"sk-toggleable__content fitted\"><pre>LogisticRegression(max_iter=1000)</pre></div> </div></div></div></div>"
      ],
      "text/plain": [
       "LogisticRegression(max_iter=1000)"
      ]
     },
     "execution_count": 133,
     "metadata": {},
     "output_type": "execute_result"
    }
   ],
   "source": [
    "model.fit(X_train , Y_train)"
   ]
  },
  {
   "cell_type": "markdown",
   "metadata": {
    "id": "SORokGEZQAFS"
   },
   "source": [
    "MODEL EVALUATION"
   ]
  },
  {
   "cell_type": "markdown",
   "metadata": {
    "id": "MtehN-9TQE_f"
   },
   "source": [
    "ACCURACY SCORE"
   ]
  },
  {
   "cell_type": "code",
   "execution_count": 134,
   "metadata": {
    "id": "pHihHQBrP1wV"
   },
   "outputs": [],
   "source": [
    "#ACCURACY SCORE ON THE TRAINING DATA\n",
    "X_train_prediction =  model.predict(X_train)\n",
    "training_data_accuracy= accuracy_score(Y_train , X_train_prediction)"
   ]
  },
  {
   "cell_type": "code",
   "execution_count": 135,
   "metadata": {
    "id": "5W82BPPeQ1wl"
   },
   "outputs": [
    {
     "name": "stdout",
     "output_type": "stream",
     "text": [
      "Accuracy Score on the training data :  0.86975\n"
     ]
    }
   ],
   "source": [
    "print('Accuracy Score on the training data : ' , training_data_accuracy)"
   ]
  },
  {
   "cell_type": "code",
   "execution_count": 136,
   "metadata": {
    "id": "P5QkWGnPRjS7"
   },
   "outputs": [],
   "source": [
    "#ACCURACY SCORE ON THE TEST DATA\n",
    "X_test_prediction =  model.predict(X_test)\n",
    "training_data_accuracy= accuracy_score(Y_test , X_test_prediction)"
   ]
  },
  {
   "cell_type": "code",
   "execution_count": 137,
   "metadata": {
    "colab": {
     "base_uri": "https://localhost:8080/"
    },
    "id": "0dRNE-RsRvUm",
    "outputId": "ccb9f2f4-87cc-405d-ebc2-bf9acb4dc071"
   },
   "outputs": [
    {
     "name": "stdout",
     "output_type": "stream",
     "text": [
      "Accuracy Score on the test data :  0.716\n"
     ]
    }
   ],
   "source": [
    "print('Accuracy Score on the test data : ' , training_data_accuracy)"
   ]
  },
  {
   "cell_type": "markdown",
   "metadata": {
    "id": "Jec8uzjeUdiG"
   },
   "source": [
    "SAVING THE TRAINED MODEL"
   ]
  },
  {
   "cell_type": "code",
   "execution_count": 138,
   "metadata": {
    "id": "wgxR5xXAZ-DM"
   },
   "outputs": [],
   "source": [
    "import pickle\n"
   ]
  },
  {
   "cell_type": "code",
   "execution_count": 139,
   "metadata": {
    "id": "KAT-mTDXZ_rC"
   },
   "outputs": [],
   "source": [
    "filename= 'trained_model.pkl'\n",
    "pickle.dump(model,open(filename,'wb'))"
   ]
  },
  {
   "cell_type": "code",
   "execution_count": 140,
   "metadata": {},
   "outputs": [],
   "source": [
    "# vectorizer = TfidfVectorizer(max_features=13004)  # Adjust max_features as needed\n",
    "# X_train_transformed = vectorizer.fit_transform(X_train)\n",
    "with open('vectori.pkl', 'wb') as vectorizer_file:\n",
    "    pickle.dump(vectorizer, vectorizer_file)"
   ]
  }
 ],
 "metadata": {
  "colab": {
   "include_colab_link": true,
   "provenance": []
  },
  "kernelspec": {
   "display_name": "Python 3",
   "name": "python3"
  },
  "language_info": {
   "codemirror_mode": {
    "name": "ipython",
    "version": 3
   },
   "file_extension": ".py",
   "mimetype": "text/x-python",
   "name": "python",
   "nbconvert_exporter": "python",
   "pygments_lexer": "ipython3",
   "version": "3.12.2"
  }
 },
 "nbformat": 4,
 "nbformat_minor": 0
}
